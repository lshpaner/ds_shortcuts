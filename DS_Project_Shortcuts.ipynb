{
  "nbformat": 4,
  "nbformat_minor": 0,
  "metadata": {
    "colab": {
      "provenance": [],
      "authorship_tag": "ABX9TyMfwkfC8rZcOce5EktHx7CV"
    },
    "kernelspec": {
      "name": "python3",
      "display_name": "Python 3"
    },
    "language_info": {
      "name": "python"
    }
  },
  "cells": [
    {
      "cell_type": "markdown",
      "source": [
        "## Searching for Text in Files Using `findstr`"
      ],
      "metadata": {
        "id": "uetwzsbRhLk9"
      }
    },
    {
      "cell_type": "markdown",
      "source": [
        "The command `findstr` is used in the Windows command line environment to search for patterns in files. Here's a breakdown of the command\n",
        "\n",
        "<pre>findstr /s /i \"data\" *.txt`:</pre>\n",
        "\n",
        "\n",
        "- `findstr`: This is the command used to search for text within files.\n",
        "- `/s`: This flag tells `findstr` to search for the specified string in the current directory and all its subdirectories (recursively).\n",
        "- `/i`: This flag makes the search case-insensitive, meaning it will match \"data\", \"Data\", \"DATA\", etc.\n",
        "- `\"data\"`: This is the string we are searching for within the files.\n",
        "- `*.txt`: This part specifies the file type to search in. In this case, `*.txt` means all files with a `.txt` extension.\n",
        "\n",
        "When this command is run, it will search every text file in the current directory and its subdirectories for the string \"data\", regardless of the case, and display the lines where the string is found along with their file paths."
      ],
      "metadata": {
        "id": "a5pOIa_whPlU"
      }
    },
    {
      "cell_type": "markdown",
      "source": [
        "## NbStripout"
      ],
      "metadata": {
        "id": "OIAO2cpUiNwF"
      }
    },
    {
      "cell_type": "markdown",
      "source": [
        "## Cleaning Output from Jupyter Notebooks with `nbstripout`\n",
        "\n",
        "<pre> find path/to/notebooks/folder -name \"*.ipynb\" -exec nbstripout {} \\; </pre>\n",
        "\n",
        "The command provided is used in Unix-like systems to clean the output from Jupyter notebooks:\n",
        "\n",
        "- `find`: This is the command used to search for files in a directory hierarchy.\n",
        "- `path/to/notebooks/folder`: This specifies the directory path where your Jupyter notebooks are located.\n",
        "- `-name \"*.ipynb\"`: This part of the command tells `find` to look for files that match the name pattern `*.ipynb`, which means all files with the `.ipynb` extension (Jupyter notebooks).\n",
        "- `-exec`: This flag is followed by a command template that `find` will execute for each matched file.\n",
        "- `nbstripout {}`: This is the command that will be executed for each found notebook. `nbstripout` is a tool that removes outputs from Jupyter notebooks, and `{}` is a placeholder for the filename that `find` substitutes into the command.\n",
        "- `\\;`: This signifies the end of the command template for the `-exec` action.\n",
        "\n",
        "When this command is run, it will recursively search for all Jupyter notebook files in the specified path and execute `nbstripout` on each one, effectively removing their output content. This is particularly useful for version control purposes, as it reduces the amount of non-essential data in commits and makes the notebooks easier to diff.\n"
      ],
      "metadata": {
        "id": "EuthXRziiY38"
      }
    },
    {
      "cell_type": "markdown",
      "source": [
        "## Partially Matching Files (Folder Paths) in UNIX"
      ],
      "metadata": {
        "id": "eTszOZ5sB-cm"
      }
    },
    {
      "cell_type": "markdown",
      "source": [
        "<pre> find . -name 'mlruns' </pre>"
      ],
      "metadata": {
        "id": "0o4JMTCyCDyi"
      }
    },
    {
      "cell_type": "markdown",
      "source": [
        "## MlFlow"
      ],
      "metadata": {
        "id": "Pae4Ja6t1XnY"
      }
    },
    {
      "cell_type": "markdown",
      "source": [
        "<pre> mlflow ui --backend-store-uri /path/to/folder  </pre>"
      ],
      "metadata": {
        "id": "K6T6VxBR1u4B"
      }
    },
    {
      "cell_type": "markdown",
      "source": [
        "<pre> mlflow ui --backend-store-uri /path/to/folder --host `server name` --port `number` </pre>"
      ],
      "metadata": {
        "id": "6ih8vtkq17M3"
      }
    },
    {
      "cell_type": "markdown",
      "source": [
        "## Jupyter Notebook on Server"
      ],
      "metadata": {
        "id": "XrxnRZ7r11D6"
      }
    },
    {
      "cell_type": "markdown",
      "source": [
        "<pre> jupyter notebook --ip 0.0.0.0 </pre>"
      ],
      "metadata": {
        "id": "i5X4EVyt2cU0"
      }
    }
  ]
}